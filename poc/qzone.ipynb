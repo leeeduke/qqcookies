{
 "cells": [
  {
   "cell_type": "code",
   "execution_count": null,
   "metadata": {},
   "outputs": [],
   "source": [
    "import requests\n",
    "import PIL.Image\n",
    "import io"
   ]
  },
  {
   "cell_type": "markdown",
   "metadata": {},
   "source": [
    "访问 https://ssl.ptlogin2.qq.com/ptqrshow?appid=549000912&e=2&l=M&s=3&d=72&v=4&t=0.03666409975114471&daid=5&pt_3rd_aid=0&u1=https%3A%2F%2Fqzs.qq.com%2Fqzone%2Fv5%2Floginsucc.html%3Fpara%3Dizone"
   ]
  },
  {
   "cell_type": "code",
   "execution_count": null,
   "metadata": {},
   "outputs": [],
   "source": [
    "def random_float(length):\n",
    "\n",
    "    import random\n",
    "    \n",
    "    # 返回小数点后有length位并以0开头的随机数\n",
    "    n = random.random() / 10 ** (length + 1)\n",
    "\n",
    "    print(n)\n",
    "\n",
    "    return n\n",
    "\n",
    "resp = requests.get(\n",
    "    url=\"https://ssl.ptlogin2.qq.com/ptqrshow\",\n",
    "    params={\n",
    "        \"appid\": 549000912,\n",
    "        \"e\": 2,\n",
    "        \"l\": \"M\",\n",
    "        \"s\": 3,\n",
    "        \"d\": 72,\n",
    "        \"v\": 4,\n",
    "        \"t\": random_float(17),\n",
    "        \"daid\": 5,\n",
    "        \"pt_3rd_aid\": 0,\n",
    "        \"u1\": \"https://qzs.qq.com/qzone/v5/loginsucc.html?para=izone\",\n",
    "    },\n",
    ")\n",
    "\n",
    "\n",
    "display(PIL.Image.open(io.BytesIO(resp.content)))\n",
    "print(resp.headers)\n",
    "\n",
    "cookies = resp.cookies.get_dict()\n",
    "print(cookies)"
   ]
  },
  {
   "cell_type": "markdown",
   "metadata": {},
   "source": [
    "获取 pt_local_token \n",
    "\n",
    "\n",
    "https://xui.ptlogin2.qq.com/cgi-bin/xlogin?proxy_url=https%3A//qzs.qq.com/qzone/v6/portal/proxy.html&daid=5&&hide_title_bar=1&low_login=0&qlogin_auto_login=1&no_verifyimg=1&link_target=blank&appid=549000912&style=22&target=self&s_url=https%3A%2F%2Fqzs.qq.com%2Fqzone%2Fv5%2Floginsucc.html%3Fpara%3Dizone&pt_qr_app=%E6%89%8B%E6%9C%BAQQ%E7%A9%BA%E9%97%B4&pt_qr_link=https%3A//z.qzone.com/download.html&self_regurl=https%3A//qzs.qq.com/qzone/v6/reg/index.html&pt_qr_help_link=https%3A//z.qzone.com/download.html&pt_no_auth=0\n"
   ]
  },
  {
   "cell_type": "code",
   "execution_count": null,
   "metadata": {},
   "outputs": [],
   "source": [
    "resp = requests.get(\n",
    "    url=\"https://xui.ptlogin2.qq.com/cgi-bin/xlogin\",\n",
    "    params={\n",
    "        \"proxy_url\": \"https://qzs.qq.com/qzone/v6/portal/proxy.html\",\n",
    "        \"daid\": 5,\n",
    "        \"\": {},\n",
    "        \"hide_title_bar\": 1,\n",
    "        \"low_login\": 0,\n",
    "        \"qlogin_auto_login\": 1,\n",
    "        \"no_verifyimg\": 1,\n",
    "        \"link_target\": \"blank\",\n",
    "        \"appid\": 549000912,\n",
    "        \"style\": 22,\n",
    "        \"target\": \"self\",\n",
    "        \"s_url\": \"https://qzs.qq.com/qzone/v5/loginsucc.html?para=izone\",\n",
    "        \"pt_qr_app\": \"手机QQ空间\",\n",
    "        \"pt_qr_link\": \"https://z.qzone.com/download.html\",\n",
    "        \"self_regurl\": \"https://qzs.qq.com/qzone/v6/reg/index.html\",\n",
    "        \"pt_qr_help_link\": \"https://z.qzone.com/download.html\",\n",
    "        \"pt_no_auth\": 0,\n",
    "    },\n",
    "    cookies=cookies,\n",
    ")\n",
    "\n",
    "print(resp.text)\n",
    "print(resp.headers)\n",
    "\n",
    "cookies = cookies | resp.cookies.get_dict()\n",
    "print(cookies)\n",
    "\n",
    "pt_local_token = resp.cookies.get(\"pt_local_token\")\n",
    "print(pt_local_token)"
   ]
  },
  {
   "cell_type": "markdown",
   "metadata": {},
   "source": [
    "访问 https://localhost.ptlogin2.qq.com:4301/pt_get_uins?callback=ptui_getuins_CB&r=0.5841120398292319&pt_local_tk=-189171014\n",
    "\n",
    "取得 uin"
   ]
  },
  {
   "cell_type": "code",
   "execution_count": null,
   "metadata": {},
   "outputs": [],
   "source": [
    "import random\n",
    "\n",
    "def random_float(length: int) -> float:\n",
    "    # 生成一个随机的整数，其长度为length\n",
    "    decimal_part = ''.join(random.choices('0123456789', k=length))\n",
    "    # 拼接成浮点数的字符串形式\n",
    "    float_str = f\"0.{decimal_part}\"\n",
    "    # 转换为浮点数类型并返回\n",
    "    return float(float_str)\n",
    "\n",
    "resp = requests.get(\n",
    "    url=\"https://localhost.ptlogin2.qq.com:4301/pt_get_uins\",\n",
    "    params={\n",
    "        \"callback\": \"ptui_getuins_CB\",\n",
    "        \"r\": random_float(16),\n",
    "        \"pt_local_tk\": pt_local_token,\n",
    "    },\n",
    "    headers={\n",
    "        \"Referer\": \"https://xui.ptlogin2.qq.com/\",\n",
    "    },\n",
    "    cookies=cookies,\n",
    ")\n",
    "\n",
    "print(resp.text)\n",
    "\n",
    "import re\n",
    "\n",
    "# 从text取出[{...}]\n",
    "m = re.search(r\"\\[.*\\]\", resp.text)\n",
    "\n",
    "print(m.group())\n",
    "\n",
    "import json\n",
    "\n",
    "# 将字符串转换为json对象\n",
    "\n",
    "m = json.loads(m.group())\n",
    "\n",
    "print(m)\n",
    "\n",
    "cookies = cookies | resp.cookies.get_dict()\n",
    "\n",
    "uin = m[0]['uin']"
   ]
  },
  {
   "cell_type": "markdown",
   "metadata": {},
   "source": [
    "https://localhost.ptlogin2.qq.com:4301/pt_get_st?clientuin=1010553892&r=0.3258647470913638&pt_local_tk=-189171014&callback=__jp0\n",
    "\n",
    "获取 QQClientKey"
   ]
  },
  {
   "cell_type": "code",
   "execution_count": null,
   "metadata": {},
   "outputs": [],
   "source": [
    "resp = requests.get(\n",
    "    url=\"https://localhost.ptlogin2.qq.com:4301/pt_get_st\",\n",
    "    params={\n",
    "        \"clientuin\": uin,\n",
    "        \"r\": random_float(16),\n",
    "        \"pt_local_tk\": pt_local_token,\n",
    "        \"callback\": \"__jp0\",\n",
    "    },\n",
    "    cookies=cookies,\n",
    "    headers={\"Referer\": \"https://xui.ptlogin2.qq.com/\"},\n",
    ")\n",
    "\n",
    "print(resp.text)\n",
    "\n",
    "cookies = cookies | resp.cookies.get_dict()\n",
    "\n",
    "print(cookies)"
   ]
  },
  {
   "cell_type": "markdown",
   "metadata": {},
   "source": [
    "获取 ptsigx 和 skey\n",
    "\n",
    "https://ssl.ptlogin2.qq.com/jump?clientuin=1010553892&keyindex=19&pt_aid=549000912&daid=5&u1=https%3A%2F%2Fqzs.qq.com%2Fqzone%2Fv5%2Floginsucc.html%3Fpara%3Dizone&pt_local_tk=1937662578&pt_3rd_aid=0&ptopt=1&style=40\n"
   ]
  },
  {
   "cell_type": "code",
   "execution_count": null,
   "metadata": {},
   "outputs": [],
   "source": [
    "resp = requests.get(\n",
    "    url=\"https://ssl.ptlogin2.qq.com/jump\",\n",
    "    params={\n",
    "        \"clientuin\": uin,\n",
    "        \"keyindex\": 19,\n",
    "        \"pt_aid\": 549000912,\n",
    "        \"daid\": 5,\n",
    "        \"u1\": \"https://qzs.qq.com/qzone/v5/loginsucc.html?para=izone\",\n",
    "        \"pt_local_tk\": pt_local_token,\n",
    "        \"pt_3rd_aid\": 0,\n",
    "        \"ptopt\": 1,\n",
    "        \"style\": 40,\n",
    "    },\n",
    "    headers={\"Referer\": \"https://xui.ptlogin2.qq.com/\"},\n",
    "    cookies=cookies,\n",
    "    allow_redirects=False,\n",
    ")\n",
    "\n",
    "print(resp.text)\n",
    "print(resp.headers)\n",
    "\n",
    "cookies = cookies | resp.cookies.get_dict()\n",
    "\n",
    "print(json.dumps(cookies, indent=4))\n",
    "print(resp.cookies.get_dict())\n",
    "\n",
    "check_sig_url = eval(resp.text.replace(\"ptui_qlogin_CB\", \"\"))[1]\n",
    "\n",
    "print(check_sig_url)"
   ]
  },
  {
   "cell_type": "markdown",
   "metadata": {},
   "source": [
    "获取 pskey"
   ]
  },
  {
   "cell_type": "code",
   "execution_count": null,
   "metadata": {},
   "outputs": [],
   "source": [
    "\n",
    "\n",
    "resp = requests.get(\n",
    "    url=check_sig_url,\n",
    "    headers={\"Referer\": \"https://xui.ptlogin2.qq.com/\"},\n",
    "    cookies=cookies,\n",
    "    allow_redirects=False,\n",
    ")\n",
    "print(resp.status_code)\n",
    "print(resp.text)\n",
    "\n",
    "print(resp.headers)\n",
    "# print(resp.cookies.get_dict())\n",
    "\n",
    "cookies = cookies | resp.cookies.get_dict()\n",
    "\n",
    "# print(json.dumps(cookies, indent=4))\n",
    "\n",
    "\n",
    "print(f\"\"\"\n",
    "skey: {cookies['skey']}\n",
    "p_skey: {cookies['p_skey']}\n",
    "\"\"\")"
   ]
  }
 ],
 "metadata": {
  "kernelspec": {
   "display_name": "venv",
   "language": "python",
   "name": "python3"
  },
  "language_info": {
   "codemirror_mode": {
    "name": "ipython",
    "version": 3
   },
   "file_extension": ".py",
   "mimetype": "text/x-python",
   "name": "python",
   "nbconvert_exporter": "python",
   "pygments_lexer": "ipython3",
   "version": "3.10.13"
  }
 },
 "nbformat": 4,
 "nbformat_minor": 2
}
