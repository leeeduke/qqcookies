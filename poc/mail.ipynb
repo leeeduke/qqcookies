{
 "cells": [
  {
   "cell_type": "code",
   "execution_count": null,
   "metadata": {},
   "outputs": [],
   "source": [
    "import requests\n",
    "import PIL.Image\n",
    "import io"
   ]
  },
  {
   "cell_type": "markdown",
   "metadata": {},
   "source": [
    "访问 https://ssl.ptlogin2.qq.com/ptqrshow?appid=716027609&e=2&l=M&s=3&d=72&v=4&t=0.1957881457063695&daid=383&pt_3rd_aid=102013353&u1=https%3A%2F%2Fgraph.qq.com%2Foauth2.0%2Flogin_jump"
   ]
  },
  {
   "cell_type": "code",
   "execution_count": null,
   "metadata": {},
   "outputs": [],
   "source": [
    "resp = requests.get(\n",
    "    url=\"https://ssl.ptlogin2.qq.com/ptqrshow\",\n",
    "    params={\n",
    "        \"appid\": 716027609,\n",
    "        \"e\": 2,\n",
    "        \"l\": \"M\",\n",
    "        \"s\": 3,\n",
    "        \"d\": 72,\n",
    "        \"v\": 4,\n",
    "        \"t\": 0.37961976952352483,\n",
    "        \"daid\": 383,\n",
    "        \"pt_3rd_aid\": 102013353,\n",
    "        \"u1\": \"https://graph.qq.com/oauth2.0/login_jump\",\n",
    "    },\n",
    ")\n",
    "\n",
    "\n",
    "display(PIL.Image.open(io.BytesIO(resp.content)))\n",
    "print(resp.headers)\n",
    "\n",
    "cookies = resp.cookies.get_dict()\n",
    "print(cookies)"
   ]
  },
  {
   "cell_type": "markdown",
   "metadata": {},
   "source": [
    "获取pt_local_token，访问 https://xui.ptlogin2.qq.com/cgi-bin/xlogin?target=self&appid=522005705&daid=4&s_url=https%3A%2F%2Fwx.mail.qq.com%2Flist%2Freadtemplate%3Fname%3Dlogin_jump.html%26target%3D&style=25&low_login=1&proxy_url=https://mail.qq.com/proxy.html&need_qr=0&hide_border=1&border_radius=0&self_regurl=https%3A%2F%2Freg.mail.qq.com&app_id=11005?t=regist&pt_feedback_link=http://support.qq.com/discuss/350_1.shtml&css=https://res.mail.qq.com/zh_CN/htmledition/style/ptlogin_input_for_xmail.css&enable_qlogin=0"
   ]
  },
  {
   "cell_type": "code",
   "execution_count": null,
   "metadata": {},
   "outputs": [],
   "source": [
    "resp = requests.get(\n",
    "    url=\"https://xui.ptlogin2.qq.com/cgi-bin/xlogin\",\n",
    "    params={\n",
    "        \"appid\": 716027609,\n",
    "        \"daid\": 383,\n",
    "        \"style\": 33,\n",
    "        \"login_text\": \"登录\",\n",
    "        \"hide_title_bar\": 1,\n",
    "        \"hide_border\": 1,\n",
    "        \"target\": \"self\",\n",
    "        \"s_url\": \"https://graph.qq.com/oauth2.0/login_jump\",\n",
    "        \"pt_3rd_aid\": 102013353,\n",
    "        \"pt_feedback_link\": \"https://support.qq.com/products/77942?customInfo=.appid102013353\",\n",
    "        \"theme\": 10,\n",
    "        \"verify_theme\": \"\",\n",
    "    },\n",
    "    cookies=cookies,\n",
    ")\n",
    "\n",
    "print(resp.text)\n",
    "print(resp.headers)\n",
    "\n",
    "cookies = cookies | resp.cookies.get_dict()\n",
    "print(cookies)\n",
    "\n",
    "pt_local_token = resp.cookies.get(\"pt_local_token\")\n",
    "print(pt_local_token)"
   ]
  },
  {
   "cell_type": "markdown",
   "metadata": {},
   "source": [
    "访问 https://localhost.ptlogin2.qq.com:4301/pt_get_uins?callback=ptui_getuins_CB&r=0.7544340024793896&pt_local_tk=pt_local_tk"
   ]
  },
  {
   "cell_type": "code",
   "execution_count": null,
   "metadata": {},
   "outputs": [],
   "source": [
    "def random_float(length):\n",
    "\n",
    "    import random\n",
    "    \n",
    "    # 返回小数点后有length位并以0开头的随机数\n",
    "    n = random.random() / 10 ** (length + 1)\n",
    "\n",
    "    print(n)\n",
    "\n",
    "    return n\n",
    "\n",
    "resp = requests.get(\n",
    "    url=\"https://localhost.ptlogin2.qq.com:4301/pt_get_uins\",\n",
    "    params={\n",
    "        \"callback\": \"ptui_getuins_CB\",\n",
    "        \"r\": random_float(16),\n",
    "        \"pt_local_tk\": pt_local_token,\n",
    "    },\n",
    "    headers={\n",
    "        \"Referer\": \"https://xui.ptlogin2.qq.com/\",\n",
    "    },\n",
    "    cookies=cookies,\n",
    ")\n",
    "\n",
    "print(resp.text)\n",
    "\n",
    "import re\n",
    "\n",
    "# 从text取出[{...}]\n",
    "m = re.search(r\"\\[.*\\]\", resp.text)\n",
    "\n",
    "print(m.group())\n",
    "\n",
    "import json\n",
    "\n",
    "# 将字符串转换为json对象\n",
    "\n",
    "m = json.loads(m.group())\n",
    "\n",
    "print(m)\n",
    "\n",
    "cookies = cookies | resp.cookies.get_dict()"
   ]
  },
  {
   "cell_type": "markdown",
   "metadata": {},
   "source": [
    "利用 QQuin 与 pt_local_token 获取 QQClientkey。\n",
    "https://localhost.ptlogin2.qq.com:4301/pt_get_st?clientuin=QQUin&r=0.8134579633763475&pt_local_tk=pt_local_token&callback=__jp0\n",
    "\n",
    "请求标头带上 Referer\n",
    "\n",
    "Referer: https://xui.ptlogin2.qq.com/"
   ]
  },
  {
   "cell_type": "code",
   "execution_count": null,
   "metadata": {},
   "outputs": [],
   "source": [
    "resp = requests.get(\n",
    "    url=\"https://localhost.ptlogin2.qq.com:4301/pt_get_st\",\n",
    "    params={\n",
    "        \"clientuin\": m[0][\"uin\"],\n",
    "        \"r\": random_float(16),\n",
    "        \"pt_local_tk\": pt_local_token,\n",
    "        \"callback\": \"__jp0\",\n",
    "    },\n",
    "    cookies=cookies,\n",
    "    headers={\"Referer\": \"https://xui.ptlogin2.qq.com/\"},\n",
    ")\n",
    "\n",
    "print(resp.text)\n",
    "\n",
    "cookies = cookies | resp.cookies.get_dict()\n",
    "\n",
    "print(cookies)"
   ]
  },
  {
   "cell_type": "markdown",
   "metadata": {},
   "source": [
    "获取 ptsigx\n",
    "\n",
    "Request URL:\n",
    "\n",
    "https://ssl.ptlogin2.qq.com/jump?clientuin=QQUin&keyindex=9&pt_aid=716027609&daid=383&u1=https%3A%2F%2Fgraph.qq.com%2Foauth2.0%2Flogin_jump&pt_local_tk=633103212&pt_3rd_aid=102013353&ptopt=1&style=40\n",
    "\n",
    "请求标头带上 Referer 与 Cookie（QQClientkey）\n",
    "\n",
    "Referer: https://xui.ptlogin2.qq.com/\n",
    "Cookie: QQClientkey"
   ]
  },
  {
   "cell_type": "code",
   "execution_count": null,
   "metadata": {},
   "outputs": [],
   "source": [
    "resp = requests.get(\n",
    "    url=\"https://ssl.ptlogin2.qq.com/jump\",\n",
    "    params={\n",
    "        \"clientuin\": m[0][\"uin\"],\n",
    "        \"keyindex\": 19,\n",
    "        \"pt_aid\": 716027609,\n",
    "        \"daid\": 383,\n",
    "        \"u1\": \"https://graph.qq.com/oauth2.0/login_jump\",\n",
    "        \"pt_local_tk\": pt_local_token,\n",
    "        \"pt_3rd_aid\": 102013353,\n",
    "        \"ptopt\": 1,\n",
    "        \"style\": 40,\n",
    "    },\n",
    "    headers={\"Referer\": \"https://xui.ptlogin2.qq.com/\"},\n",
    "    cookies=cookies,\n",
    "    allow_redirects=False,\n",
    ")\n",
    "\n",
    "print(resp.text)\n",
    "print(resp.headers)\n",
    "\n",
    "cookies = cookies | resp.cookies.get_dict()\n",
    "\n",
    "print(json.dumps(cookies, indent=4))\n",
    "print(resp.cookies.get_dict())\n",
    "\n",
    "check_sig_url = eval(resp.text.replace('ptui_qlogin_CB', ''))[1]\n",
    "\n",
    "print(check_sig_url)"
   ]
  },
  {
   "cell_type": "markdown",
   "metadata": {},
   "source": [
    "skey和pskey\n",
    "\n",
    "\n",
    "https://ssl.ptlogin2.graph.qq.com/check_sig?pttype=2&uin=1010553892&service=jump&nodirect=0&ptsigx=852bc2705d326a5d68e9e2ae99d607d09be91b08d1a0626d97198ede920b979b71f9b0e551b6d9b4d2cc906ff662fc510169210d7a46a588a9db503050841003ba3ebf2834bb4fd2&s_url=https%3A%2F%2Fgraph.qq.com%2Foauth2.0%2Flogin_jump&f_url=&ptlang=2052&ptredirect=100&aid=716027609&daid=383&j_later=0&low_login_hour=0&regmaster=0&pt_login_type=-1&pt_aid=716027609&pt_aaid=0&pt_light=0&pt_3rd_aid=102013353\n",
    "\n",
    "\n",
    "Referer: https://xui.ptlogin2.qq.com/"
   ]
  },
  {
   "cell_type": "code",
   "execution_count": null,
   "metadata": {},
   "outputs": [],
   "source": [
    "\n",
    "\n",
    "resp = requests.get(\n",
    "    url=check_sig_url,\n",
    "    headers={\"Referer\": \"https://xui.ptlogin2.qq.com/\"},\n",
    "    # cookies=cookies,\n",
    "    allow_redirects=False,\n",
    ")\n",
    "print(resp.status_code)\n",
    "print(resp.text)\n",
    "\n",
    "print(resp.headers)\n",
    "print(resp.cookies.get_dict())\n",
    "\n",
    "cookies = cookies | resp.cookies.get_dict()\n",
    "\n",
    "print(json.dumps(cookies, indent=4))\n",
    "\n"
   ]
  }
 ],
 "metadata": {
  "kernelspec": {
   "display_name": "venv",
   "language": "python",
   "name": "python3"
  },
  "language_info": {
   "codemirror_mode": {
    "name": "ipython",
    "version": 3
   },
   "file_extension": ".py",
   "mimetype": "text/x-python",
   "name": "python",
   "nbconvert_exporter": "python",
   "pygments_lexer": "ipython3",
   "version": "3.10.13"
  }
 },
 "nbformat": 4,
 "nbformat_minor": 2
}
